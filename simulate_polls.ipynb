{
 "cells": [
  {
   "cell_type": "code",
   "id": "initial_id",
   "metadata": {
    "collapsed": true,
    "ExecuteTime": {
     "end_time": "2024-11-05T05:08:27.863933Z",
     "start_time": "2024-11-05T05:08:27.860979Z"
    }
   },
   "source": [
    "import pandas\n",
    "import numpy as np"
   ],
   "outputs": [],
   "execution_count": 329
  },
  {
   "metadata": {},
   "cell_type": "markdown",
   "source": "Load the poll data file:",
   "id": "8c1b16c951357482"
  },
  {
   "metadata": {
    "ExecuteTime": {
     "end_time": "2024-11-05T05:08:27.915533Z",
     "start_time": "2024-11-05T05:08:27.909826Z"
    }
   },
   "cell_type": "code",
   "source": [
    "POLLS_FILE = \"PMbPp.csv\"\n",
    "\n",
    "wisconsin = pandas.read_csv(POLLS_FILE)\n",
    "STATE = wisconsin[\"Contest\"][0]"
   ],
   "id": "7da8654c374b72a4",
   "outputs": [],
   "execution_count": 330
  },
  {
   "metadata": {},
   "cell_type": "markdown",
   "source": "Convert the sample count to an integer: ",
   "id": "bfa6457f4bf16c20"
  },
  {
   "metadata": {
    "ExecuteTime": {
     "end_time": "2024-11-05T05:08:27.961602Z",
     "start_time": "2024-11-05T05:08:27.957066Z"
    }
   },
   "cell_type": "code",
   "source": "wisconsin[\"SampleInteger\"] = wisconsin[\"Sample\"].apply(lambda x: int(x.split(\"@@\")[1]))",
   "id": "a1229957df773080",
   "outputs": [],
   "execution_count": 331
  },
  {
   "metadata": {},
   "cell_type": "markdown",
   "source": "Find the absolute (i.e. no +/-) margins *just* among the major candidates; ignore undecided and 3rd party respondents",
   "id": "e21abc9d6aff2d50"
  },
  {
   "metadata": {
    "ExecuteTime": {
     "end_time": "2024-11-05T05:08:28.016953Z",
     "start_time": "2024-11-05T05:08:28.012083Z"
    }
   },
   "cell_type": "code",
   "source": [
    "margins = (wisconsin[\"Harris\"] - wisconsin[\"Trump\"]) / (wisconsin[\"Harris\"] + wisconsin[\"Trump\"])\n",
    "wisconsin[\"AbsoluteMargin\"] = np.absolute(margins)\n",
    "wisconsin[\"AbsoluteMargin\"]"
   ],
   "id": "368a95bafed201b8",
   "outputs": [
    {
     "data": {
      "text/plain": [
       "0     0.026455\n",
       "1     0.020408\n",
       "2     0.005236\n",
       "3     0.005661\n",
       "4     0.011765\n",
       "        ...   \n",
       "95    0.005405\n",
       "96    0.005348\n",
       "97    0.043478\n",
       "98    0.047120\n",
       "99    0.021277\n",
       "Name: AbsoluteMargin, Length: 100, dtype: float64"
      ]
     },
     "execution_count": 332,
     "metadata": {},
     "output_type": "execute_result"
    }
   ],
   "execution_count": 332
  },
  {
   "metadata": {},
   "cell_type": "markdown",
   "source": "Use the Trump and Harris percentages to infer the total number of respondents who only responded either \"Trump\" or \"Harris\":",
   "id": "9ca6f118a4974a6f"
  },
  {
   "metadata": {
    "ExecuteTime": {
     "end_time": "2024-11-05T05:08:28.100946Z",
     "start_time": "2024-11-05T05:08:28.094216Z"
    }
   },
   "cell_type": "code",
   "source": [
    "# The total number of poll respondents in each poll who said they planned to vote for either Harris or Trump:\n",
    "# np.ceil rounds up; this would decrease variance and is therefore being generous to the pollsters\n",
    "wisconsin[\"HarrisOrTrumpTotal\"] = np.ceil(wisconsin[\"SampleInteger\"] * ((wisconsin[\"Harris\"] + wisconsin[\"Trump\"]) / 100)).astype(int)\n",
    "wisconsin[\"HarrisOrTrumpTotal\"]"
   ],
   "id": "18888a68c6b17fb0",
   "outputs": [
    {
     "data": {
      "text/plain": [
       "0     1234\n",
       "1     1304\n",
       "2      794\n",
       "3     1429\n",
       "4      712\n",
       "      ... \n",
       "95     648\n",
       "96    1028\n",
       "97     432\n",
       "98     705\n",
       "99     376\n",
       "Name: HarrisOrTrumpTotal, Length: 100, dtype: int64"
      ]
     },
     "execution_count": 333,
     "metadata": {},
     "output_type": "execute_result"
    }
   ],
   "execution_count": 333
  },
  {
   "metadata": {},
   "cell_type": "markdown",
   "source": "Calculate the observed mean absolute margin, i.e. the average percent difference between each of the candidates' respondent shares",
   "id": "e1d65ee39067d32d"
  },
  {
   "metadata": {
    "ExecuteTime": {
     "end_time": "2024-11-05T05:08:28.175280Z",
     "start_time": "2024-11-05T05:08:28.173097Z"
    }
   },
   "cell_type": "code",
   "source": [
    "mean_observed_absolute_margin = wisconsin[\"AbsoluteMargin\"].mean()\n",
    "print(f\"Observed mean absolute margin across all polls in {STATE}: {100 * mean_observed_absolute_margin:.2f}%\")"
   ],
   "id": "817ab15d79784bb8",
   "outputs": [
    {
     "name": "stdout",
     "output_type": "stream",
     "text": [
      "Observed mean absolute margin across all polls in Wisconsin: 2.03%\n"
     ]
    }
   ],
   "execution_count": 334
  },
  {
   "metadata": {},
   "cell_type": "markdown",
   "source": "This function simulates a poll and then tells you the percent margin (not actually percent; it's on a 0.0 - 1.0 scale) of respondents who favor one candidate over another.",
   "id": "60e1b9c0fc639d4a"
  },
  {
   "metadata": {
    "ExecuteTime": {
     "end_time": "2024-11-05T05:08:28.333185Z",
     "start_time": "2024-11-05T05:08:28.330584Z"
    }
   },
   "cell_type": "code",
   "source": [
    "def simulate_poll(n: int, harris_share: float = 0.5) -> float:\n",
    "    \"\"\"Simulate poll of `n` planned Harris/Trump voters; return the absolute margin;\n",
    "    `probability` is the share of all voters who plan to vote for Harris\"\"\"\n",
    "    responses = np.random.random(n) > harris_share\n",
    "    margin = (responses.mean() - 0.5) * 2\n",
    "    absolute_margin = np.abs(margin)\n",
    "    return absolute_margin"
   ],
   "id": "aabb347b4b52debb",
   "outputs": [],
   "execution_count": 335
  },
  {
   "metadata": {},
   "cell_type": "markdown",
   "source": "This function simulates an entire universe--well, specifically it simulates several polls of a perfectly tied presidential race. The provided `sample_sizes` tells the function what sample sizes of polls to run. E.g. `[800, 1200, 1046]` (am I the only one who thinks election poll sample sizes are kind of small?)",
   "id": "a864baade02f3cea"
  },
  {
   "metadata": {
    "ExecuteTime": {
     "end_time": "2024-11-05T05:08:28.388095Z",
     "start_time": "2024-11-05T05:08:28.381342Z"
    }
   },
   "cell_type": "code",
   "source": [
    "# Simulate many polls\n",
    "def simulate_universe(sample_sizes: list[int], print_results: bool = False) -> float:\n",
    "    absolute_margins = []\n",
    "    for n in sample_sizes:\n",
    "        absolute_margin = simulate_poll(n)\n",
    "        if print_results:\n",
    "            print(f\"Simulated poll of size {n} produced absolute margin of {absolute_margin:.4f}\")\n",
    "        absolute_margins.append(absolute_margin)\n",
    "    mean_absolute_margin = np.mean(absolute_margins)\n",
    "    if print_results:\n",
    "        print(f\"{mean_absolute_margin=:.4f}\")\n",
    "    return mean_absolute_margin\n",
    "\n",
    "simulate_universe(wisconsin[\"HarrisOrTrumpTotal\"], print_results=True)"
   ],
   "id": "acc1c21a413a9ac9",
   "outputs": [
    {
     "name": "stdout",
     "output_type": "stream",
     "text": [
      "Simulated poll of size 1234 produced absolute margin of 0.0097\n",
      "Simulated poll of size 1304 produced absolute margin of 0.0276\n",
      "Simulated poll of size 794 produced absolute margin of 0.0025\n",
      "Simulated poll of size 1429 produced absolute margin of 0.0105\n",
      "Simulated poll of size 712 produced absolute margin of 0.0478\n",
      "Simulated poll of size 833 produced absolute margin of 0.0588\n",
      "Simulated poll of size 655 produced absolute margin of 0.0473\n",
      "Simulated poll of size 582 produced absolute margin of 0.0103\n",
      "Simulated poll of size 816 produced absolute margin of 0.0588\n",
      "Simulated poll of size 793 produced absolute margin of 0.0038\n",
      "Simulated poll of size 776 produced absolute margin of 0.0052\n",
      "Simulated poll of size 712 produced absolute margin of 0.0393\n",
      "Simulated poll of size 760 produced absolute margin of 0.0447\n",
      "Simulated poll of size 1064 produced absolute margin of 0.0602\n",
      "Simulated poll of size 473 produced absolute margin of 0.0233\n",
      "Simulated poll of size 707 produced absolute margin of 0.1004\n",
      "Simulated poll of size 794 produced absolute margin of 0.0479\n",
      "Simulated poll of size 776 produced absolute margin of 0.0103\n",
      "Simulated poll of size 518 produced absolute margin of 0.0193\n",
      "Simulated poll of size 1012 produced absolute margin of 0.0119\n",
      "Simulated poll of size 907 produced absolute margin of 0.0430\n",
      "Simulated poll of size 886 produced absolute margin of 0.0181\n",
      "Simulated poll of size 1496 produced absolute margin of 0.0080\n",
      "Simulated poll of size 780 produced absolute margin of 0.0256\n",
      "Simulated poll of size 573 produced absolute margin of 0.0436\n",
      "Simulated poll of size 593 produced absolute margin of 0.0320\n",
      "Simulated poll of size 717 produced absolute margin of 0.0153\n",
      "Simulated poll of size 991 produced absolute margin of 0.0192\n",
      "Simulated poll of size 570 produced absolute margin of 0.0070\n",
      "Simulated poll of size 675 produced absolute margin of 0.0607\n",
      "Simulated poll of size 1020 produced absolute margin of 0.0863\n",
      "Simulated poll of size 964 produced absolute margin of 0.0290\n",
      "Simulated poll of size 795 produced absolute margin of 0.0113\n",
      "Simulated poll of size 768 produced absolute margin of 0.0052\n",
      "Simulated poll of size 535 produced absolute margin of 0.0019\n",
      "Simulated poll of size 501 produced absolute margin of 0.0180\n",
      "Simulated poll of size 441 produced absolute margin of 0.0113\n",
      "Simulated poll of size 579 produced absolute margin of 0.0328\n",
      "Simulated poll of size 776 produced absolute margin of 0.0077\n",
      "Simulated poll of size 609 produced absolute margin of 0.0378\n",
      "Simulated poll of size 665 produced absolute margin of 0.0466\n",
      "Simulated poll of size 561 produced absolute margin of 0.0553\n",
      "Simulated poll of size 1005 produced absolute margin of 0.0010\n",
      "Simulated poll of size 496 produced absolute margin of 0.0242\n",
      "Simulated poll of size 465 produced absolute margin of 0.0108\n",
      "Simulated poll of size 378 produced absolute margin of 0.1270\n",
      "Simulated poll of size 570 produced absolute margin of 0.0316\n",
      "Simulated poll of size 376 produced absolute margin of 0.0372\n",
      "Simulated poll of size 744 produced absolute margin of 0.0054\n",
      "Simulated poll of size 999 produced absolute margin of 0.0150\n",
      "Simulated poll of size 768 produced absolute margin of 0.0052\n",
      "Simulated poll of size 461 produced absolute margin of 0.0933\n",
      "Simulated poll of size 678 produced absolute margin of 0.0206\n",
      "Simulated poll of size 796 produced absolute margin of 0.0201\n",
      "Simulated poll of size 391 produced absolute margin of 0.0486\n",
      "Simulated poll of size 781 produced absolute margin of 0.0166\n",
      "Simulated poll of size 1007 produced absolute margin of 0.0010\n",
      "Simulated poll of size 494 produced absolute margin of 0.0324\n",
      "Simulated poll of size 1032 produced absolute margin of 0.0523\n",
      "Simulated poll of size 455 produced absolute margin of 0.0066\n",
      "Simulated poll of size 619 produced absolute margin of 0.0145\n",
      "Simulated poll of size 765 produced absolute margin of 0.0118\n",
      "Simulated poll of size 841 produced absolute margin of 0.0131\n",
      "Simulated poll of size 770 produced absolute margin of 0.0156\n",
      "Simulated poll of size 514 produced absolute margin of 0.0078\n",
      "Simulated poll of size 805 produced absolute margin of 0.0037\n",
      "Simulated poll of size 568 produced absolute margin of 0.0106\n",
      "Simulated poll of size 761 produced absolute margin of 0.0092\n",
      "Simulated poll of size 862 produced absolute margin of 0.0186\n",
      "Simulated poll of size 790 produced absolute margin of 0.0076\n",
      "Simulated poll of size 776 produced absolute margin of 0.0670\n",
      "Simulated poll of size 626 produced absolute margin of 0.0319\n",
      "Simulated poll of size 918 produced absolute margin of 0.0588\n",
      "Simulated poll of size 570 produced absolute margin of 0.0281\n",
      "Simulated poll of size 780 produced absolute margin of 0.0462\n",
      "Simulated poll of size 1183 produced absolute margin of 0.0245\n",
      "Simulated poll of size 546 produced absolute margin of 0.0220\n",
      "Simulated poll of size 946 produced absolute margin of 0.0423\n",
      "Simulated poll of size 990 produced absolute margin of 0.0141\n",
      "Simulated poll of size 1013 produced absolute margin of 0.0346\n",
      "Simulated poll of size 487 produced absolute margin of 0.0513\n",
      "Simulated poll of size 904 produced absolute margin of 0.0066\n",
      "Simulated poll of size 558 produced absolute margin of 0.0143\n",
      "Simulated poll of size 622 produced absolute margin of 0.0161\n",
      "Simulated poll of size 595 produced absolute margin of 0.0118\n",
      "Simulated poll of size 771 produced absolute margin of 0.0350\n",
      "Simulated poll of size 611 produced absolute margin of 0.0180\n",
      "Simulated poll of size 384 produced absolute margin of 0.0781\n",
      "Simulated poll of size 532 produced absolute margin of 0.1090\n",
      "Simulated poll of size 1054 produced absolute margin of 0.0209\n",
      "Simulated poll of size 564 produced absolute margin of 0.0319\n",
      "Simulated poll of size 366 produced absolute margin of 0.0820\n",
      "Simulated poll of size 1050 produced absolute margin of 0.0171\n",
      "Simulated poll of size 558 produced absolute margin of 0.0072\n",
      "Simulated poll of size 646 produced absolute margin of 0.0310\n",
      "Simulated poll of size 648 produced absolute margin of 0.0340\n",
      "Simulated poll of size 1028 produced absolute margin of 0.0019\n",
      "Simulated poll of size 432 produced absolute margin of 0.0602\n",
      "Simulated poll of size 705 produced absolute margin of 0.0128\n",
      "Simulated poll of size 376 produced absolute margin of 0.0266\n",
      "mean_absolute_margin=0.0295\n"
     ]
    },
    {
     "data": {
      "text/plain": [
       "np.float64(0.02951981321028623)"
      ]
     },
     "execution_count": 336,
     "metadata": {},
     "output_type": "execute_result"
    }
   ],
   "execution_count": 336
  },
  {
   "metadata": {},
   "cell_type": "markdown",
   "source": "Let's simulate the polls (with the same sample sizes as in the real polling data for our state) across very many alternate universes. We'll keep track of the mean absolute margin for each universe and then compare our universe's mean absolute margin to that of our multiverse.",
   "id": "64029d03bd86ee0c"
  },
  {
   "metadata": {
    "ExecuteTime": {
     "end_time": "2024-11-05T05:08:29.893911Z",
     "start_time": "2024-11-05T05:08:28.615318Z"
    }
   },
   "cell_type": "code",
   "source": [
    "NUMBER_OF_UNIVERSES = 100_000\n",
    "\n",
    "mean_absolute_margins = []\n",
    "for _ in range(NUMBER_OF_UNIVERSES):\n",
    "    # Simulate the polls in this universe, then calculate the mean absolute margin:\n",
    "    mean_absolute_margin = simulate_universe(wisconsin[\"HarrisOrTrumpTotal\"])\n",
    "    mean_absolute_margins.append(mean_absolute_margin)\n",
    "mean_absolute_margins = np.array(mean_absolute_margins)\n"
   ],
   "id": "ff10f41a4d90916b",
   "outputs": [],
   "execution_count": 337
  },
  {
   "metadata": {
    "ExecuteTime": {
     "end_time": "2024-11-05T05:08:29.902020Z",
     "start_time": "2024-11-05T05:08:29.898674Z"
    }
   },
   "cell_type": "code",
   "source": [
    "print(f\"Mean absolute margin across all universes: {100 * mean_absolute_margins.mean():.2f}%\")\n",
    "simulated_mean_absolute_margins_above_observed = np.sum(mean_absolute_margins > np.mean(wisconsin[\"AbsoluteMargin\"]))\n",
    "share_above_observed = simulated_mean_absolute_margins_above_observed / NUMBER_OF_UNIVERSES\n",
    "print(f\"Across {NUMBER_OF_UNIVERSES} simulated universes, {simulated_mean_absolute_margins_above_observed} ({100 * share_above_observed:.4f}%) had a higher mean absolute margin than the one observed by pollsters in Wisconsin ({100 * mean_observed_absolute_margin:.2f}%)\")\n"
   ],
   "id": "cfcf6bfede6de9e8",
   "outputs": [
    {
     "name": "stdout",
     "output_type": "stream",
     "text": [
      "Mean absolute margin across all universes: 3.05%\n",
      "Across 1000 simulated universes, 1000 (100.0000%) had a higher mean absolute margin than the one observed by pollsters in Wisconsin (2.03%)\n"
     ]
    }
   ],
   "execution_count": 338
  },
  {
   "metadata": {},
   "cell_type": "markdown",
   "source": "Let's make a histogram of the observed absolute margins. We divide the $x$-axis (representing mean absolute margin) into 50 buckets, then draw a bar whose height represents how many universes' mean absolute margin falls into that bucket's range. Then, we'll draw *our* universe's mean average margin, and see whether it looks like the simulated universes' (and if it looks different, how so).",
   "id": "8c71ce460b48508b"
  },
  {
   "metadata": {
    "ExecuteTime": {
     "end_time": "2024-11-05T05:08:30.063827Z",
     "start_time": "2024-11-05T05:08:29.949240Z"
    }
   },
   "cell_type": "code",
   "source": [
    "import matplotlib.pyplot as plt\n",
    "\n",
    "plt.hist(mean_absolute_margins, bins=50, edgecolor='black')\n",
    "plt.xlabel('Mean Absolute Margin')\n",
    "plt.ylabel('# of Universes')\n",
    "plt.title('MAM Across all Universes')\n",
    "\n",
    "plt.axvline(x=mean_observed_absolute_margin, color='red', linestyle='--', linewidth=1.5, label=f'Observed MAM at x={mean_observed_absolute_margin:.5f}')\n",
    "\n",
    "plt.legend()\n",
    "plt.show()\n",
    "\n"
   ],
   "id": "ae5ea2dbe744e352",
   "outputs": [
    {
     "data": {
      "text/plain": [
       "<Figure size 640x480 with 1 Axes>"
      ],
      "image/png": "[encoded data removed]"
     },
     "metadata": {},
     "output_type": "display_data"
    }
   ],
   "execution_count": 339
  },
  {
   "metadata": {
    "ExecuteTime": {
     "end_time": "2024-11-05T05:08:30.074797Z",
     "start_time": "2024-11-05T05:08:30.071350Z"
    }
   },
   "cell_type": "code",
   "source": "np.percentile(mean_absolute_margins, [0.01, 1, 5, 25, 50, 75, 95, 99, 99.99])",
   "id": "840873fd9c3284de",
   "outputs": [
    {
     "data": {
      "text/plain": [
       "array([0.02340986, 0.02497054, 0.02653106, 0.0287999 , 0.03049904,\n",
       "       0.03217703, 0.03464762, 0.03604907, 0.03866685])"
      ]
     },
     "execution_count": 340,
     "metadata": {},
     "output_type": "execute_result"
    }
   ],
   "execution_count": 340
  },
  {
   "metadata": {
    "ExecuteTime": {
     "end_time": "2024-11-05T05:08:30.124624Z",
     "start_time": "2024-11-05T05:08:30.120902Z"
    }
   },
   "cell_type": "code",
   "source": "mean_absolute_margins.min()",
   "id": "9a806569bc7e7299",
   "outputs": [
    {
     "data": {
      "text/plain": [
       "np.float64(0.023400615955786817)"
      ]
     },
     "execution_count": 341,
     "metadata": {},
     "output_type": "execute_result"
    }
   ],
   "execution_count": 341
  }
 ],
 "metadata": {
  "kernelspec": {
   "display_name": "Python 3",
   "language": "python",
   "name": "python3"
  },
  "language_info": {
   "codemirror_mode": {
    "name": "ipython",
    "version": 2
   },
   "file_extension": ".py",
   "mimetype": "text/x-python",
   "name": "python",
   "nbconvert_exporter": "python",
   "pygments_lexer": "ipython2",
   "version": "2.7.6"
  }
 },
 "nbformat": 4,
 "nbformat_minor": 5
}

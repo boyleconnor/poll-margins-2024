{
 "cells": [
  {
   "cell_type": "code",
   "id": "initial_id",
   "metadata": {
    "collapsed": true,
    "ExecuteTime": {
     "end_time": "2024-11-05T00:24:54.753224Z",
     "start_time": "2024-11-05T00:24:54.502779Z"
    }
   },
   "source": [
    "import pandas\n",
    "import numpy as np"
   ],
   "outputs": [],
   "execution_count": 1
  },
  {
   "metadata": {
    "ExecuteTime": {
     "end_time": "2024-11-05T02:21:21.287659Z",
     "start_time": "2024-11-05T02:21:21.283917Z"
    }
   },
   "cell_type": "code",
   "source": [
    "POLLS_FILE = \"PMbPp.csv\"\n",
    "\n",
    "wisconsin = pandas.read_csv(POLLS_FILE)\n",
    "STATE = wisconsin[\"Contest\"][0]"
   ],
   "id": "9e016deccdb86eb9",
   "outputs": [],
   "execution_count": 168
  },
  {
   "metadata": {
    "ExecuteTime": {
     "end_time": "2024-11-05T02:21:45.477140Z",
     "start_time": "2024-11-05T02:21:45.473216Z"
    }
   },
   "cell_type": "code",
   "source": "wisconsin[\"SampleInteger\"] = wisconsin[\"Sample\"].apply(lambda x: int(x.split(\"@@\")[1]))",
   "id": "a1229957df773080",
   "outputs": [],
   "execution_count": 172
  },
  {
   "metadata": {
    "ExecuteTime": {
     "end_time": "2024-11-05T02:21:48.967864Z",
     "start_time": "2024-11-05T02:21:48.961846Z"
    }
   },
   "cell_type": "code",
   "source": [
    "margins = (wisconsin[\"Harris\"] - wisconsin[\"Trump\"]) / (wisconsin[\"Harris\"] + wisconsin[\"Trump\"])\n",
    "wisconsin[\"AbsoluteMargin\"] = np.absolute(margins)\n",
    "wisconsin[\"AbsoluteMargin\"]"
   ],
   "id": "368a95bafed201b8",
   "outputs": [
    {
     "data": {
      "text/plain": [
       "0     0.026455\n",
       "1     0.020408\n",
       "2     0.005236\n",
       "3     0.005661\n",
       "4     0.011765\n",
       "        ...   \n",
       "95    0.005405\n",
       "96    0.005348\n",
       "97    0.043478\n",
       "98    0.047120\n",
       "99    0.021277\n",
       "Name: AbsoluteMargin, Length: 100, dtype: float64"
      ]
     },
     "execution_count": 173,
     "metadata": {},
     "output_type": "execute_result"
    }
   ],
   "execution_count": 173
  },
  {
   "metadata": {
    "ExecuteTime": {
     "end_time": "2024-11-05T02:21:52.650909Z",
     "start_time": "2024-11-05T02:21:52.644602Z"
    }
   },
   "cell_type": "code",
   "source": [
    "# The total number of poll respondents in each poll who said they planned to vote for either Harris or Trump:\n",
    "# np.ceil rounds up; this would decrease variance and is therefore being generous to the pollsters\n",
    "wisconsin[\"HarrisOrTrumpTotal\"] = np.ceil(wisconsin[\"SampleInteger\"] * ((wisconsin[\"Harris\"] + wisconsin[\"Trump\"]) / 100)).astype(int)\n",
    "wisconsin[\"HarrisOrTrumpTotal\"]"
   ],
   "id": "18888a68c6b17fb0",
   "outputs": [
    {
     "data": {
      "text/plain": [
       "0     1234\n",
       "1     1304\n",
       "2      794\n",
       "3     1429\n",
       "4      712\n",
       "      ... \n",
       "95     648\n",
       "96    1028\n",
       "97     432\n",
       "98     705\n",
       "99     376\n",
       "Name: HarrisOrTrumpTotal, Length: 100, dtype: int64"
      ]
     },
     "execution_count": 174,
     "metadata": {},
     "output_type": "execute_result"
    }
   ],
   "execution_count": 174
  },
  {
   "metadata": {
    "ExecuteTime": {
     "end_time": "2024-11-05T02:21:57.821465Z",
     "start_time": "2024-11-05T02:21:57.817226Z"
    }
   },
   "cell_type": "code",
   "source": [
    "mean_observed_absolute_margin = wisconsin[\"AbsoluteMargin\"].mean()\n",
    "print(f\"Observed mean absolute margin across all polls in {STATE}: {100 * mean_observed_absolute_margin:.2f}%\")"
   ],
   "id": "817ab15d79784bb8",
   "outputs": [
    {
     "name": "stdout",
     "output_type": "stream",
     "text": [
      "Observed average absolute margin across all polls in Wisconsin: 2.03%\n"
     ]
    }
   ],
   "execution_count": 175
  },
  {
   "metadata": {
    "ExecuteTime": {
     "end_time": "2024-11-05T02:29:12.621475Z",
     "start_time": "2024-11-05T02:29:12.618009Z"
    }
   },
   "cell_type": "code",
   "source": [
    "def simulate_poll(n: int, probability: float = 0.5) -> float:\n",
    "    \"\"\"Simulate poll of `n` planned Harris/Trump voters; return the absolute margin\"\"\"\n",
    "    responses = np.random.random(n) > probability\n",
    "    margin = (responses.mean() - 0.5) * 2\n",
    "    absolute_margin = np.abs(margin)\n",
    "    return absolute_margin"
   ],
   "id": "aabb347b4b52debb",
   "outputs": [],
   "execution_count": 228
  },
  {
   "metadata": {
    "ExecuteTime": {
     "end_time": "2024-11-05T02:38:18.976647Z",
     "start_time": "2024-11-05T02:38:18.966434Z"
    }
   },
   "cell_type": "code",
   "source": [
    "# Simulate many polls\n",
    "def simulate_universe(sample_sizes: list[int], print_results: bool = False) -> float:\n",
    "    absolute_margins = []\n",
    "    for n in sample_sizes:\n",
    "        absolute_margin = simulate_poll(n)\n",
    "        if print_results:\n",
    "            print(f\"Simulated poll of size {n} produced absolute margin of {absolute_margin:.4f}\")\n",
    "        absolute_margins.append(absolute_margin)\n",
    "    mean_absolute_margin = np.mean(absolute_margins)\n",
    "    if print_results:\n",
    "        print(f\"{mean_absolute_margin=:.4f}\")\n",
    "    return mean_absolute_margin\n",
    "\n",
    "simulate_universe(wisconsin[\"HarrisOrTrumpTotal\"], print_results=True)"
   ],
   "id": "acc1c21a413a9ac9",
   "outputs": [
    {
     "name": "stdout",
     "output_type": "stream",
     "text": [
      "Simulated poll of size 1234 produced absolute margin of 0.0454\n",
      "Simulated poll of size 1304 produced absolute margin of 0.1089\n",
      "Simulated poll of size 794 produced absolute margin of 0.0076\n",
      "Simulated poll of size 1429 produced absolute margin of 0.0049\n",
      "Simulated poll of size 712 produced absolute margin of 0.0337\n",
      "Simulated poll of size 833 produced absolute margin of 0.0588\n",
      "Simulated poll of size 655 produced absolute margin of 0.0412\n",
      "Simulated poll of size 582 produced absolute margin of 0.0481\n",
      "Simulated poll of size 816 produced absolute margin of 0.0147\n",
      "Simulated poll of size 793 produced absolute margin of 0.0921\n",
      "Simulated poll of size 776 produced absolute margin of 0.0000\n",
      "Simulated poll of size 712 produced absolute margin of 0.0365\n",
      "Simulated poll of size 760 produced absolute margin of 0.0474\n",
      "Simulated poll of size 1064 produced absolute margin of 0.0414\n",
      "Simulated poll of size 473 produced absolute margin of 0.0655\n",
      "Simulated poll of size 707 produced absolute margin of 0.0693\n",
      "Simulated poll of size 794 produced absolute margin of 0.0025\n",
      "Simulated poll of size 776 produced absolute margin of 0.0077\n",
      "Simulated poll of size 518 produced absolute margin of 0.0193\n",
      "Simulated poll of size 1012 produced absolute margin of 0.0138\n",
      "Simulated poll of size 907 produced absolute margin of 0.0011\n",
      "Simulated poll of size 886 produced absolute margin of 0.0000\n",
      "Simulated poll of size 1496 produced absolute margin of 0.0107\n",
      "Simulated poll of size 780 produced absolute margin of 0.0154\n",
      "Simulated poll of size 573 produced absolute margin of 0.0646\n",
      "Simulated poll of size 593 produced absolute margin of 0.0320\n",
      "Simulated poll of size 717 produced absolute margin of 0.0516\n",
      "Simulated poll of size 991 produced absolute margin of 0.0394\n",
      "Simulated poll of size 570 produced absolute margin of 0.0596\n",
      "Simulated poll of size 675 produced absolute margin of 0.0222\n",
      "Simulated poll of size 1020 produced absolute margin of 0.0157\n",
      "Simulated poll of size 964 produced absolute margin of 0.0083\n",
      "Simulated poll of size 795 produced absolute margin of 0.0314\n",
      "Simulated poll of size 768 produced absolute margin of 0.0078\n",
      "Simulated poll of size 535 produced absolute margin of 0.0654\n",
      "Simulated poll of size 501 produced absolute margin of 0.0379\n",
      "Simulated poll of size 441 produced absolute margin of 0.0567\n",
      "Simulated poll of size 579 produced absolute margin of 0.0535\n",
      "Simulated poll of size 776 produced absolute margin of 0.0077\n",
      "Simulated poll of size 609 produced absolute margin of 0.0411\n",
      "Simulated poll of size 665 produced absolute margin of 0.0737\n",
      "Simulated poll of size 561 produced absolute margin of 0.0588\n",
      "Simulated poll of size 1005 produced absolute margin of 0.0109\n",
      "Simulated poll of size 496 produced absolute margin of 0.0121\n",
      "Simulated poll of size 465 produced absolute margin of 0.0065\n",
      "Simulated poll of size 378 produced absolute margin of 0.0265\n",
      "Simulated poll of size 570 produced absolute margin of 0.0421\n",
      "Simulated poll of size 376 produced absolute margin of 0.0426\n",
      "Simulated poll of size 744 produced absolute margin of 0.0618\n",
      "Simulated poll of size 999 produced absolute margin of 0.0671\n",
      "Simulated poll of size 768 produced absolute margin of 0.0365\n",
      "Simulated poll of size 461 produced absolute margin of 0.0282\n",
      "Simulated poll of size 678 produced absolute margin of 0.0147\n",
      "Simulated poll of size 796 produced absolute margin of 0.0101\n",
      "Simulated poll of size 391 produced absolute margin of 0.0230\n",
      "Simulated poll of size 781 produced absolute margin of 0.0346\n",
      "Simulated poll of size 1007 produced absolute margin of 0.0050\n",
      "Simulated poll of size 494 produced absolute margin of 0.0567\n",
      "Simulated poll of size 1032 produced absolute margin of 0.0659\n",
      "Simulated poll of size 455 produced absolute margin of 0.0418\n",
      "Simulated poll of size 619 produced absolute margin of 0.0016\n",
      "Simulated poll of size 765 produced absolute margin of 0.0144\n",
      "Simulated poll of size 841 produced absolute margin of 0.0107\n",
      "Simulated poll of size 770 produced absolute margin of 0.0182\n",
      "Simulated poll of size 514 produced absolute margin of 0.1206\n",
      "Simulated poll of size 805 produced absolute margin of 0.0385\n",
      "Simulated poll of size 568 produced absolute margin of 0.0915\n",
      "Simulated poll of size 761 produced absolute margin of 0.0723\n",
      "Simulated poll of size 862 produced absolute margin of 0.0255\n",
      "Simulated poll of size 790 produced absolute margin of 0.0101\n",
      "Simulated poll of size 776 produced absolute margin of 0.0129\n",
      "Simulated poll of size 626 produced absolute margin of 0.0288\n",
      "Simulated poll of size 918 produced absolute margin of 0.0022\n",
      "Simulated poll of size 570 produced absolute margin of 0.0456\n",
      "Simulated poll of size 780 produced absolute margin of 0.0744\n",
      "Simulated poll of size 1183 produced absolute margin of 0.0127\n",
      "Simulated poll of size 546 produced absolute margin of 0.0147\n",
      "Simulated poll of size 946 produced absolute margin of 0.0465\n",
      "Simulated poll of size 990 produced absolute margin of 0.0202\n",
      "Simulated poll of size 1013 produced absolute margin of 0.0286\n",
      "Simulated poll of size 487 produced absolute margin of 0.0719\n",
      "Simulated poll of size 904 produced absolute margin of 0.0155\n",
      "Simulated poll of size 558 produced absolute margin of 0.0789\n",
      "Simulated poll of size 622 produced absolute margin of 0.0643\n",
      "Simulated poll of size 595 produced absolute margin of 0.0118\n",
      "Simulated poll of size 771 produced absolute margin of 0.0091\n",
      "Simulated poll of size 611 produced absolute margin of 0.0049\n",
      "Simulated poll of size 384 produced absolute margin of 0.0104\n",
      "Simulated poll of size 532 produced absolute margin of 0.0301\n",
      "Simulated poll of size 1054 produced absolute margin of 0.0664\n",
      "Simulated poll of size 564 produced absolute margin of 0.0851\n",
      "Simulated poll of size 366 produced absolute margin of 0.0273\n",
      "Simulated poll of size 1050 produced absolute margin of 0.0210\n",
      "Simulated poll of size 558 produced absolute margin of 0.0215\n",
      "Simulated poll of size 646 produced absolute margin of 0.0000\n",
      "Simulated poll of size 648 produced absolute margin of 0.0062\n",
      "Simulated poll of size 1028 produced absolute margin of 0.0584\n",
      "Simulated poll of size 432 produced absolute margin of 0.0741\n",
      "Simulated poll of size 705 produced absolute margin of 0.0241\n",
      "Simulated poll of size 376 produced absolute margin of 0.0000\n",
      "mean_absolute_margin=0.0347\n"
     ]
    },
    {
     "data": {
      "text/plain": [
       "np.float64(0.034701436246050495)"
      ]
     },
     "execution_count": 258,
     "metadata": {},
     "output_type": "execute_result"
    }
   ],
   "execution_count": 258
  },
  {
   "metadata": {
    "ExecuteTime": {
     "end_time": "2024-11-05T02:40:34.497997Z",
     "start_time": "2024-11-05T02:38:43.359120Z"
    }
   },
   "cell_type": "code",
   "source": [
    "# Simulate all Wisconsin polls in many different universes:\n",
    "NUMBER_OF_UNIVERSES = 100_000\n",
    "\n",
    "mean_absolute_margins = []\n",
    "for _ in range(NUMBER_OF_UNIVERSES):\n",
    "    # Simulate the polls in this universe, then calculate the mean absolute margin:\n",
    "    mean_absolute_margin = simulate_universe(wisconsin[\"HarrisOrTrumpTotal\"])\n",
    "    mean_absolute_margins.append(mean_absolute_margin)\n",
    "mean_absolute_margins = np.array(mean_absolute_margins)\n"
   ],
   "id": "ff10f41a4d90916b",
   "outputs": [],
   "execution_count": 261
  },
  {
   "metadata": {},
   "cell_type": "code",
   "outputs": [],
   "execution_count": null,
   "source": "",
   "id": "354d596c38b77930"
  },
  {
   "metadata": {
    "ExecuteTime": {
     "end_time": "2024-11-05T02:45:24.741466Z",
     "start_time": "2024-11-05T02:45:24.737267Z"
    }
   },
   "cell_type": "code",
   "source": [
    "print(f\"Mean absolute margin across all universes: {100 * mean_absolute_margins.mean():.2f}%\")\n",
    "simulated_mean_absolute_margins_above_observed = np.sum(mean_absolute_margins > np.mean(wisconsin[\"AbsoluteMargin\"]))\n",
    "share_above_observed = simulated_mean_absolute_margins_above_observed / NUMBER_OF_UNIVERSES\n",
    "print(f\"Across {NUMBER_OF_UNIVERSES} simulated universes, {simulated_mean_absolute_margins_above_observed} ({100 * share_above_observed:.4f}%) had a higher mean absolute margin than the one observed by pollsters in Wisconsin ({100 * mean_observed_absolute_margin:.2f}%)\")\n"
   ],
   "id": "cfcf6bfede6de9e8",
   "outputs": [
    {
     "name": "stdout",
     "output_type": "stream",
     "text": [
      "Mean absolute margin across all universes: 3.05%\n",
      "Across 100000 simulated universes, 100000 (100.0000%) had a higher mean absolute margin than the one observed by pollsters in Wisconsin (2.03%)\n"
     ]
    }
   ],
   "execution_count": 263
  },
  {
   "metadata": {
    "ExecuteTime": {
     "end_time": "2024-11-05T01:42:51.094331Z",
     "start_time": "2024-11-05T01:42:51.090497Z"
    }
   },
   "cell_type": "code",
   "source": "np.percentile(mean_absolute_margins, [0.01, 1, 5, 25, 50, 75, 95, 99, 99.99])",
   "id": "840873fd9c3284de",
   "outputs": [
    {
     "data": {
      "text/plain": [
       "array([0.02255982, 0.02446985, 0.02592852, 0.02800167, 0.02957135,\n",
       "       0.0311081 , 0.03358405, 0.03533467, 0.03773458])"
      ]
     },
     "execution_count": 129,
     "metadata": {},
     "output_type": "execute_result"
    }
   ],
   "execution_count": 129
  },
  {
   "metadata": {
    "ExecuteTime": {
     "end_time": "2024-11-05T01:50:07.568726Z",
     "start_time": "2024-11-05T01:50:07.565983Z"
    }
   },
   "cell_type": "code",
   "source": "mean_absolute_margins.min()",
   "id": "9a806569bc7e7299",
   "outputs": [
    {
     "data": {
      "text/plain": [
       "np.float64(0.019686281623542877)"
      ]
     },
     "execution_count": 140,
     "metadata": {},
     "output_type": "execute_result"
    }
   ],
   "execution_count": 140
  }
 ],
 "metadata": {
  "kernelspec": {
   "display_name": "Python 3",
   "language": "python",
   "name": "python3"
  },
  "language_info": {
   "codemirror_mode": {
    "name": "ipython",
    "version": 2
   },
   "file_extension": ".py",
   "mimetype": "text/x-python",
   "name": "python",
   "nbconvert_exporter": "python",
   "pygments_lexer": "ipython2",
   "version": "2.7.6"
  }
 },
 "nbformat": 4,
 "nbformat_minor": 5
}
